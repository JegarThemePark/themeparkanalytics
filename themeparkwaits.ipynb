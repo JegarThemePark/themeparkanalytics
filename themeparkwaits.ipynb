{
 "cells": [
  {
   "cell_type": "code",
   "execution_count": 34,
   "metadata": {
    "collapsed": false
   },
   "outputs": [
    {
     "name": "stdout",
     "output_type": "stream",
     "text": [
      "<amusement.parks.universal.IslandsOfAdventure.IslandsOfAdventure object at 0x10785cc10>\n",
      "The Amazing Adventures of Spider-Man® True 5\n",
      "Caro-Seuss-el™ True 5\n",
      "The Cat in The Hat™ True 5\n",
      "Doctor Doom's Fearfall® True 5\n",
      "Dragon Challenge™ True 5\n",
      "Dudley Do-Right's Ripsaw Falls® True 5\n",
      "Flight of the Hippogriff™ True 5\n",
      "Harry Potter and the Forbidden Journey™ True 15\n",
      "Jurassic Park River Adventure® True 5\n",
      "One Fish, Two Fish, Red Fish, Blue Fish™ True 5\n",
      "Popeye & Bluto's Bilge-Rat Barges® False None\n",
      "Pteranodon Flyers® True 5\n",
      "The High in the Sky Seuss Trolley Train Ride!™ True 5\n",
      "Storm Force Accelatron® False None\n",
      "The Incredible Hulk Coaster® True 5\n",
      "Camp Jurassic® True 0\n",
      "If I Ran The Zoo™ True 0\n",
      "Jurassic Park Discovery Center® True 0\n",
      "Me Ship, The Olive® True 0\n",
      "Hogwarts™ Express - Hogsmeade™ Station True 10\n",
      "Skull Island: Reign of Kong™ True 10\n"
     ]
    }
   ],
   "source": [
    "import sys\n",
    "import pandas\n",
    "from amusement.parks.universal.IslandsOfAdventure import IslandsOfAdventure\n",
    "from amusement.parks.seaworld.BuschGardensTampa import BuschGardensTampa\n",
    "from amusement.parks.seaworld.SeaworldOrlando import SeaworldOrlando\n",
    "\n",
    "ioa = IslandsOfAdventure()\n",
    "a= ioa.rides\n",
    "print ioa\n",
    "for show in a():\n",
    "    print show['name'], show['isOpen'], show['wait']\n",
    "# or print ioa.shows() if you want show times instead"
   ]
  },
  {
   "cell_type": "code",
   "execution_count": null,
   "metadata": {
    "collapsed": true
   },
   "outputs": [],
   "source": []
  },
  {
   "cell_type": "code",
   "execution_count": null,
   "metadata": {
    "collapsed": true
   },
   "outputs": [],
   "source": []
  },
  {
   "cell_type": "code",
   "execution_count": 3,
   "metadata": {
    "collapsed": false
   },
   "outputs": [
    {
     "name": "stdout",
     "output_type": "stream",
     "text": [
      "[]\n"
     ]
    }
   ],
   "source": []
  }
 ],
 "metadata": {
  "kernelspec": {
   "display_name": "Python 2",
   "language": "python",
   "name": "python2"
  },
  "language_info": {
   "codemirror_mode": {
    "name": "ipython",
    "version": 2
   },
   "file_extension": ".py",
   "mimetype": "text/x-python",
   "name": "python",
   "nbconvert_exporter": "python",
   "pygments_lexer": "ipython2",
   "version": "2.7.11"
  }
 },
 "nbformat": 4,
 "nbformat_minor": 0
}
